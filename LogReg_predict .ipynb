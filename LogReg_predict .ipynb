{
 "cells": [
  {
   "cell_type": "code",
   "execution_count": 2,
   "metadata": {},
   "outputs": [],
   "source": [
    "import numpy as np\n",
    "import matplotlib.pyplot as plt\n",
    "%matplotlib inline\n",
    "import pandas as pd"
   ]
  },
  {
   "cell_type": "code",
   "execution_count": 116,
   "metadata": {},
   "outputs": [],
   "source": [
    "df = pd.read_csv('data_income_edited.csv')"
   ]
  },
  {
   "cell_type": "code",
   "execution_count": 117,
   "metadata": {},
   "outputs": [],
   "source": [
    "l = ['gender','age','income','virgin','friends','social_fear','attempt_suicide']"
   ]
  },
  {
   "cell_type": "code",
   "execution_count": 118,
   "metadata": {},
   "outputs": [],
   "source": [
    "restricted_df = df[l]"
   ]
  },
  {
   "cell_type": "code",
   "execution_count": 119,
   "metadata": {},
   "outputs": [
    {
     "name": "stderr",
     "output_type": "stream",
     "text": [
      "/anaconda3/lib/python3.6/site-packages/ipykernel_launcher.py:5: FutureWarning: set_value is deprecated and will be removed in a future release. Please use .at[] or .iat[] accessors instead\n",
      "  \"\"\"\n",
      "/anaconda3/lib/python3.6/site-packages/ipykernel_launcher.py:7: FutureWarning: set_value is deprecated and will be removed in a future release. Please use .at[] or .iat[] accessors instead\n",
      "  import sys\n"
     ]
    }
   ],
   "source": [
    "N,C = restricted_df.shape\n",
    "for i in range(N):\n",
    "    for j in range(C):\n",
    "        if restricted_df.iloc[i,j] in ['Male','Yes','Transgender male']: \n",
    "            restricted_df.set_value(i, restricted_df.columns[j], 1)\n",
    "        elif restricted_df.iloc[i,j] in ['Female','No','Transgender female']:\n",
    "            restricted_df.set_value(i, restricted_df.columns[j], 0)\n",
    "    "
   ]
  },
  {
   "cell_type": "code",
   "execution_count": 120,
   "metadata": {},
   "outputs": [],
   "source": [
    "# spher-izing\n",
    "#%debug\n",
    "data_mat = restricted_df.values.astype('float')\n",
    "means = np.mean(data_mat, axis = 0)\n",
    "std_devs = np.std(data_mat,axis = 0)\n",
    "norm_data_mat = (data_mat-means)/std_devs\n"
   ]
  },
  {
   "cell_type": "code",
   "execution_count": 133,
   "metadata": {},
   "outputs": [],
   "source": [
    "depressed_vec = df['depressed'].values\n",
    "for i in range(len(depressed_vec)):\n",
    "    if depressed_vec[i] == 'Yes':\n",
    "        depressed_vec[i] = 1\n",
    "    if depressed_vec[i] == 'No':\n",
    "        depressed_vec[i] = 0"
   ]
  },
  {
   "cell_type": "code",
   "execution_count": 80,
   "metadata": {},
   "outputs": [],
   "source": [
    "e_vals,e_vecs = np.linalg.eig(norm_data_mat.T@norm_data_mat)"
   ]
  },
  {
   "cell_type": "code",
   "execution_count": 93,
   "metadata": {},
   "outputs": [
    {
     "data": {
      "text/plain": [
       "[<matplotlib.lines.Line2D at 0x1a21ccd860>]"
      ]
     },
     "execution_count": 93,
     "metadata": {},
     "output_type": "execute_result"
    },
    {
     "data": {
      "image/png": "[encoded data removed]",
      "text/plain": [
       "<Figure size 432x288 with 1 Axes>"
      ]
     },
     "metadata": {},
     "output_type": "display_data"
    }
   ],
   "source": [
    "e_vals.sort()\n",
    "plt.plot(e_vals)"
   ]
  },
  {
   "cell_type": "code",
   "execution_count": 94,
   "metadata": {},
   "outputs": [
    {
     "data": {
      "text/plain": [
       "array([-0.11254974,  0.56814326,  0.53992725, -0.49133225,  0.23559905,\n",
       "       -0.27557175, -0.01304858])"
      ]
     },
     "execution_count": 94,
     "metadata": {},
     "output_type": "execute_result"
    }
   ],
   "source": [
    "e_vecs[:,0]"
   ]
  },
  {
   "cell_type": "code",
   "execution_count": 27,
   "metadata": {},
   "outputs": [],
   "source": [
    "from sklearn.linear_model import LogisticRegression as LogReg"
   ]
  },
  {
   "cell_type": "code",
   "execution_count": 143,
   "metadata": {},
   "outputs": [],
   "source": [
    "import statsmodels\n",
    "import statsmodels.api as sm"
   ]
  },
  {
   "cell_type": "code",
   "execution_count": 144,
   "metadata": {},
   "outputs": [],
   "source": [
    "depressed_vec = depressed_vec.astype('float')"
   ]
  },
  {
   "cell_type": "code",
   "execution_count": 152,
   "metadata": {},
   "outputs": [],
   "source": [
    "model = sm.Logit(endog=depressed_vec,exog=sm.add_constant(data_mat))"
   ]
  },
  {
   "cell_type": "code",
   "execution_count": 153,
   "metadata": {},
   "outputs": [
    {
     "name": "stdout",
     "output_type": "stream",
     "text": [
      "Optimization terminated successfully.\n",
      "         Current function value: 0.560512\n",
      "         Iterations 6\n"
     ]
    }
   ],
   "source": [
    "results =  model.fit()"
   ]
  },
  {
   "cell_type": "code",
   "execution_count": 154,
   "metadata": {},
   "outputs": [
    {
     "name": "stdout",
     "output_type": "stream",
     "text": [
      "                           Logit Regression Results                           \n",
      "==============================================================================\n",
      "Dep. Variable:                      y   No. Observations:                  469\n",
      "Model:                          Logit   Df Residuals:                      461\n",
      "Method:                           MLE   Df Model:                            7\n",
      "Date:                Sat, 01 Dec 2018   Pseudo R-squ.:                  0.1228\n",
      "Time:                        01:43:12   Log-Likelihood:                -262.88\n",
      "converged:                       True   LL-Null:                       -299.67\n",
      "                                        LLR p-value:                 2.793e-13\n",
      "==============================================================================\n",
      "                 coef    std err          z      P>|z|      [0.025      0.975]\n",
      "------------------------------------------------------------------------------\n",
      "const         -1.9122      0.648     -2.950      0.003      -3.183      -0.642\n",
      "x1             0.4570      0.298      1.534      0.125      -0.127       1.041\n",
      "x2             0.0425      0.021      2.024      0.043       0.001       0.084\n",
      "x3         -6.717e-06   3.85e-06     -1.745      0.081   -1.43e-05    8.29e-07\n",
      "x4             0.5672      0.256      2.215      0.027       0.065       1.069\n",
      "x5            -0.0037      0.005     -0.784      0.433      -0.013       0.006\n",
      "x6             1.2009      0.220      5.467      0.000       0.770       1.631\n",
      "x7             1.4208      0.360      3.943      0.000       0.715       2.127\n",
      "==============================================================================\n"
     ]
    }
   ],
   "source": [
    "print(results.summary())"
   ]
  },
  {
   "cell_type": "code",
   "execution_count": 168,
   "metadata": {},
   "outputs": [],
   "source": [
    "input_data = np.array([0.5]*8,dtype='float')\n",
    "pred = 1/(1+np.exp(-np.sum(results.params*input_data)))"
   ]
  },
  {
   "cell_type": "code",
   "execution_count": 170,
   "metadata": {},
   "outputs": [
    {
     "data": {
      "text/plain": [
       "array([0.70812899])"
      ]
     },
     "execution_count": 170,
     "metadata": {},
     "output_type": "execute_result"
    }
   ],
   "source": [
    "results.predict(exog=input_data)"
   ]
  },
  {
   "cell_type": "code",
   "execution_count": null,
   "metadata": {},
   "outputs": [],
   "source": []
  }
 ],
 "metadata": {
  "kernelspec": {
   "display_name": "Python 3",
   "language": "python",
   "name": "python3"
  },
  "language_info": {
   "codemirror_mode": {
    "name": "ipython",
    "version": 3
   },
   "file_extension": ".py",
   "mimetype": "text/x-python",
   "name": "python",
   "nbconvert_exporter": "python",
   "pygments_lexer": "ipython3",
   "version": "3.6.5"
  }
 },
 "nbformat": 4,
 "nbformat_minor": 2
}

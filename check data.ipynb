{
 "cells": [
  {
   "cell_type": "code",
   "execution_count": 2,
   "metadata": {},
   "outputs": [],
   "source": [
    "import numpy as np\n",
    "import matplotlib.pyplot as plt\n",
    "%matplotlib inline\n",
    "import pandas as pd"
   ]
  },
  {
   "cell_type": "code",
   "execution_count": 3,
   "metadata": {},
   "outputs": [],
   "source": [
    "df = pd.read_csv('data_income_edited.csv')"
   ]
  },
  {
   "cell_type": "code",
   "execution_count": 5,
   "metadata": {},
   "outputs": [],
   "source": [
    "def condition_index(cat):\n",
    "    \"\"\"we group the data through this function\n",
    "    we will output indices that let you subgroup\n",
    "    \n",
    "    input:\n",
    "        category\n",
    "        \n",
    "    output:\n",
    "        subgroup indices as a dictionary in the format of\n",
    "        {'yes':[1,5,6,7,...],\n",
    "         'no':[2,2,4,8,...]}\n",
    "    \"\"\"\n",
    "    N,_ = df.shape\n",
    "    unique_labels = set(list(df[cat].values))\n",
    "    output = {}\n",
    "    index_set = np.array(list(range(N)),dtype='int')\n",
    "    \n",
    "    for label in unique_labels:\n",
    "        output[label] = index_set[df[cat].values == label]\n",
    "        \n",
    "    return(output)"
   ]
  },
  {
   "cell_type": "code",
   "execution_count": 10,
   "metadata": {},
   "outputs": [],
   "source": [
    "p_legal = condition_index('prostitution_legal')"
   ]
  },
  {
   "cell_type": "code",
   "execution_count": 11,
   "metadata": {},
   "outputs": [],
   "source": [
    "gender = condition_index('gender')"
   ]
  },
  {
   "cell_type": "code",
   "execution_count": 20,
   "metadata": {},
   "outputs": [],
   "source": [
    "final_dict = {}\n",
    "for key_prostitute,indices_prostitute in p_legal.items():\n",
    "    for key_gender,indices_gender in gender.items():\n",
    "        final_dict[str(key_prostitute+'+'+key_gender)] = len(set(indices_gender).intersection(set(indices_prostitute)))"
   ]
  },
  {
   "cell_type": "code",
   "execution_count": 21,
   "metadata": {},
   "outputs": [
    {
     "data": {
      "text/plain": [
       "{'Yes+Female': 12,\n",
       " 'Yes+Transgender male': 1,\n",
       " 'Yes+Male': 95,\n",
       " 'Yes+Transgender female': 0,\n",
       " 'No+Female': 61,\n",
       " 'No+Transgender male': 1,\n",
       " 'No+Male': 298,\n",
       " 'No+Transgender female': 1}"
      ]
     },
     "execution_count": 21,
     "metadata": {},
     "output_type": "execute_result"
    }
   ],
   "source": [
    "final_dict"
   ]
  },
  {
   "cell_type": "code",
   "execution_count": 100,
   "metadata": {},
   "outputs": [
    {
     "data": {
      "text/plain": [
       "73"
      ]
     },
     "execution_count": 100,
     "metadata": {},
     "output_type": "execute_result"
    }
   ],
   "source": [
    "len(gender['Female'])"
   ]
  },
  {
   "cell_type": "code",
   "execution_count": null,
   "metadata": {},
   "outputs": [],
   "source": []
  }
 ],
 "metadata": {
  "kernelspec": {
   "display_name": "Python 3",
   "language": "python",
   "name": "python3"
  },
  "language_info": {
   "codemirror_mode": {
    "name": "ipython",
    "version": 3
   },
   "file_extension": ".py",
   "mimetype": "text/x-python",
   "name": "python",
   "nbconvert_exporter": "python",
   "pygments_lexer": "ipython3",
   "version": "3.6.5"
  }
 },
 "nbformat": 4,
 "nbformat_minor": 2
}
